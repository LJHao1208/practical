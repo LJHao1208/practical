{
  "nbformat": 4,
  "nbformat_minor": 0,
  "metadata": {
    "colab": {
      "provenance": [],
      "authorship_tag": "ABX9TyPjWacPpmww1CJrQReESA5G",
      "include_colab_link": true
    },
    "kernelspec": {
      "name": "python3",
      "display_name": "Python 3"
    },
    "language_info": {
      "name": "python"
    }
  },
  "cells": [
    {
      "cell_type": "markdown",
      "metadata": {
        "id": "view-in-github",
        "colab_type": "text"
      },
      "source": [
        "<a href=\"https://colab.research.google.com/github/LJHao1208/practical/blob/main/python.ipynb\" target=\"_parent\"><img src=\"https://colab.research.google.com/assets/colab-badge.svg\" alt=\"Open In Colab\"/></a>"
      ]
    },
    {
      "cell_type": "code",
      "source": [
        "# 列表（lists）是python中的对象，可以包含有序的数字序列和字符串。\n",
        "# 创建列表\n",
        "list_x = [3, \"hello\", 1]\n",
        "print(list_x)"
      ],
      "metadata": {
        "colab": {
          "base_uri": "https://localhost:8080/"
        },
        "id": "cGkEuilTw3qa",
        "outputId": "0689d99e-2945-41c0-d6e7-fa27aa6c041e"
      },
      "execution_count": 2,
      "outputs": [
        {
          "output_type": "stream",
          "name": "stdout",
          "text": [
            "[3, 'hello', 1]\n"
          ]
        }
      ]
    },
    {
      "cell_type": "code",
      "source": [
        "# 向列表中添加元素\n",
        "list_x.append(7)\n",
        "print(list_x)"
      ],
      "metadata": {
        "colab": {
          "base_uri": "https://localhost:8080/"
        },
        "id": "k2JySxhcxa_y",
        "outputId": "4190915b-b340-492e-fdd5-e185c55ce6f3"
      },
      "execution_count": 3,
      "outputs": [
        {
          "output_type": "stream",
          "name": "stdout",
          "text": [
            "[3, 'hello', 1, 7]\n"
          ]
        }
      ]
    },
    {
      "cell_type": "code",
      "source": [
        "# 访问列表中特定位置的元素\n",
        "print(\"list_x[0]:\", list_x[0])"
      ],
      "metadata": {
        "colab": {
          "base_uri": "https://localhost:8080/"
        },
        "id": "lwl09eP2xoyv",
        "outputId": "8167dd9b-f4eb-4902-ca2e-606c07b145c5"
      },
      "execution_count": 4,
      "outputs": [
        {
          "output_type": "stream",
          "name": "stdout",
          "text": [
            "list_x[0]: 3\n"
          ]
        }
      ]
    },
    {
      "cell_type": "code",
      "source": [
        "# 切片\n",
        "print(\"list_x[:]:\", list_x[:])\n",
        "print(\"list_x[2:]:\", list_x[2:])\n",
        "print(\"list_x[1:3]:\", list_x[1:3])\n",
        "print(\"list_x[:-1]:\", list_x[:-1])"
      ],
      "metadata": {
        "colab": {
          "base_uri": "https://localhost:8080/"
        },
        "id": "lX6baFV-xyK2",
        "outputId": "a57072c4-9c79-43ee-caf7-5cda4de9db7b"
      },
      "execution_count": 8,
      "outputs": [
        {
          "output_type": "stream",
          "name": "stdout",
          "text": [
            "list_x[:]: [3, 'hello', 1, 7]\n",
            "list_x[2:]: [1, 7]\n",
            "list_x[1:3]: ['hello', 1]\n",
            "list_x[:-1]: [3, 'hello', 1]\n"
          ]
        }
      ]
    },
    {
      "cell_type": "code",
      "source": [
        "# 列表长度\n",
        "len(list_x)"
      ],
      "metadata": {
        "colab": {
          "base_uri": "https://localhost:8080/"
        },
        "id": "W9-Pqo5DyEbi",
        "outputId": "3d110752-3a2f-4757-cf05-e3a5e8d1a712"
      },
      "execution_count": 9,
      "outputs": [
        {
          "output_type": "execute_result",
          "data": {
            "text/plain": [
              "4"
            ]
          },
          "metadata": {},
          "execution_count": 9
        }
      ]
    },
    {
      "cell_type": "code",
      "source": [
        "# 替换列表中的元素\n",
        "list_x[1]=\"hi\"\n",
        "print(list_x)"
      ],
      "metadata": {
        "colab": {
          "base_uri": "https://localhost:8080/"
        },
        "id": "qO6KRSixzKuH",
        "outputId": "408def47-ed97-4f24-b482-7cac6686ed26"
      },
      "execution_count": 10,
      "outputs": [
        {
          "output_type": "stream",
          "name": "stdout",
          "text": [
            "[3, 'hi', 1, 7]\n"
          ]
        }
      ]
    },
    {
      "cell_type": "code",
      "source": [
        "# 组合列表\n",
        "list_y = [2, 4, \"world\"]\n",
        "list_z = list_x + list_y\n",
        "print(list_z)"
      ],
      "metadata": {
        "colab": {
          "base_uri": "https://localhost:8080/"
        },
        "id": "Hg6vYaR_zUdf",
        "outputId": "c3cd3955-6ba7-4ec0-99e7-1faf6bc9bd17"
      },
      "execution_count": 12,
      "outputs": [
        {
          "output_type": "stream",
          "name": "stdout",
          "text": [
            "[3, 'hi', 1, 7, 2, 4, 'world']\n"
          ]
        }
      ]
    },
    {
      "cell_type": "code",
      "source": [
        "# 元组（tuples）也是python中可以保存数据但是不能替换值的对象（因此，元组称为不可变，而列表称为可变）。\n",
        "# 创建元组\n",
        "tuple_x = (3.0, \"hello\")\n",
        "print(tuple_x)"
      ],
      "metadata": {
        "colab": {
          "base_uri": "https://localhost:8080/"
        },
        "id": "nv2uMjQjzig6",
        "outputId": "da4063a3-ab24-410a-9978-eca318628a64"
      },
      "execution_count": 13,
      "outputs": [
        {
          "output_type": "stream",
          "name": "stdout",
          "text": [
            "(3.0, 'hello')\n"
          ]
        }
      ]
    },
    {
      "cell_type": "code",
      "source": [
        "# 添加元素到元组\n",
        "tuple_x = tuple_x + (5.6,)\n",
        "print(tuple_x)"
      ],
      "metadata": {
        "colab": {
          "base_uri": "https://localhost:8080/"
        },
        "id": "wyntiZbs1iwA",
        "outputId": "3b5ac86b-6c80-4640-97d8-0aa335f56168"
      },
      "execution_count": 14,
      "outputs": [
        {
          "output_type": "stream",
          "name": "stdout",
          "text": [
            "(3.0, 'hello', 5.6)\n"
          ]
        }
      ]
    },
    {
      "cell_type": "code",
      "source": [
        "# 试图改变元组的值（事实上不可行）\n",
        "tuple_x[1] = 'world'"
      ],
      "metadata": {
        "colab": {
          "base_uri": "https://localhost:8080/",
          "height": 158
        },
        "id": "_KP09mO41rjQ",
        "outputId": "78f30480-e425-4dd9-dad8-4ba7361e40e8"
      },
      "execution_count": 15,
      "outputs": [
        {
          "output_type": "error",
          "ename": "TypeError",
          "evalue": "'tuple' object does not support item assignment",
          "traceback": [
            "\u001b[0;31m---------------------------------------------------------------------------\u001b[0m",
            "\u001b[0;31mTypeError\u001b[0m                                 Traceback (most recent call last)",
            "\u001b[0;32m<ipython-input-15-65e6d3b82d35>\u001b[0m in \u001b[0;36m<cell line: 2>\u001b[0;34m()\u001b[0m\n\u001b[1;32m      1\u001b[0m \u001b[0;31m# 试图改变元组的值（事实上不可行）\u001b[0m\u001b[0;34m\u001b[0m\u001b[0;34m\u001b[0m\u001b[0m\n\u001b[0;32m----> 2\u001b[0;31m \u001b[0mtuple_x\u001b[0m\u001b[0;34m[\u001b[0m\u001b[0;36m1\u001b[0m\u001b[0;34m]\u001b[0m \u001b[0;34m=\u001b[0m \u001b[0;34m'world'\u001b[0m\u001b[0;34m\u001b[0m\u001b[0;34m\u001b[0m\u001b[0m\n\u001b[0m",
            "\u001b[0;31mTypeError\u001b[0m: 'tuple' object does not support item assignment"
          ]
        }
      ]
    },
    {
      "cell_type": "code",
      "source": [
        "# 字典（dictionaries） 是包含键值对（key-value）的python对象。\n",
        "# 在下面的字典示例中，键是“name”和“eye_color”变量。它们各自都有与之相关的值。 字典不能有两个相同的键。\n",
        "# 创建字典\n",
        "goku={\"name\":\"Goku\", \"eye_color\":\"brown\"}\n",
        "print(goku)\n",
        "print(goku[\"name\"])\n",
        "print(goku[\"eye_color\"])"
      ],
      "metadata": {
        "colab": {
          "base_uri": "https://localhost:8080/"
        },
        "id": "3Eix-G8o15bJ",
        "outputId": "5d7ff87b-0366-4eb4-d621-1c6312dd78c8"
      },
      "execution_count": 16,
      "outputs": [
        {
          "output_type": "stream",
          "name": "stdout",
          "text": [
            "{'name': 'Goku', 'eye_color': 'brown'}\n",
            "Goku\n",
            "brown\n"
          ]
        }
      ]
    },
    {
      "cell_type": "code",
      "source": [
        "# 改变键值\n",
        "goku[\"eye_color\"]=\"green\"\n",
        "print(goku)\n",
        "print(len(goku))"
      ],
      "metadata": {
        "colab": {
          "base_uri": "https://localhost:8080/"
        },
        "id": "yt3puSwZ2iE_",
        "outputId": "a137bdcd-205c-431d-85f4-fcbe2f346b48"
      },
      "execution_count": 17,
      "outputs": [
        {
          "output_type": "stream",
          "name": "stdout",
          "text": [
            "{'name': 'Goku', 'eye_color': 'green'}\n"
          ]
        }
      ]
    },
    {
      "cell_type": "code",
      "source": [
        "# 函数（functions）是模块化可重用代码块的一种方法。\n",
        "# 创建函数\n",
        "def add_two(x):\n",
        "  x += 2\n",
        "  return x\n",
        "\n",
        "# 调用函数\n",
        "score = 0\n",
        "score = add_two(x=score)\n",
        "print(score)"
      ],
      "metadata": {
        "colab": {
          "base_uri": "https://localhost:8080/"
        },
        "id": "3lxNgVfH2vSy",
        "outputId": "6a17f6ab-1b24-44e1-d519-16356e19311c"
      },
      "execution_count": 19,
      "outputs": [
        {
          "output_type": "stream",
          "name": "stdout",
          "text": [
            "2\n"
          ]
        }
      ]
    },
    {
      "cell_type": "code",
      "source": [
        "# 具有多输入的函数\n",
        "def join_name(first_name, last_name):\n",
        "  joined_name = first_name + last_name\n",
        "  return joined_name\n",
        "\n",
        "# 调用函数\n",
        "first_name = \"Goku\"\n",
        "last_name = \"Mohandas\"\n",
        "joined_name = join_name(first_name=first_name, last_name=last_name)\n",
        "print(joined_name)"
      ],
      "metadata": {
        "colab": {
          "base_uri": "https://localhost:8080/"
        },
        "id": "8YAq2LQ_3yv7",
        "outputId": "e8aa5281-85b6-4553-ae68-e9febd312bf5"
      },
      "execution_count": 20,
      "outputs": [
        {
          "output_type": "stream",
          "name": "stdout",
          "text": [
            "GokuMohandas\n"
          ]
        }
      ]
    },
    {
      "cell_type": "code",
      "source": [
        "# 类（classes） 是面向对象的Python编程的基础部分。\n",
        "# 创建函数\n",
        "class Pets(object):\n",
        "\n",
        "  # 类初始化\n",
        "  def __init__(self, species, color, name):\n",
        "    self.species = species\n",
        "    self.color = color\n",
        "    self.name = name\n",
        "\n",
        "  # 用于打印\n",
        "  def __str__(self):\n",
        "    return \"{0}{1} named {2}.\".format(self.color, self.species, self.name)\n",
        "\n",
        "  # 示例函数\n",
        "  def change_name(self, new_name):\n",
        "    self.name = new_name"
      ],
      "metadata": {
        "id": "awiZwh1t4XUK"
      },
      "execution_count": 21,
      "outputs": []
    },
    {
      "cell_type": "code",
      "source": [
        "# 创建类的实例：对象\n",
        "my_dog = Pets(species=\"dog\", color=\"orange\", name=\"Guiness\",)\n",
        "print(my_dog)\n",
        "print(my_dog.name)"
      ],
      "metadata": {
        "colab": {
          "base_uri": "https://localhost:8080/"
        },
        "id": "DYYsXcrZ5VAy",
        "outputId": "29fca1d1-2cc6-4241-a9dd-3e9b8e09ab1d"
      },
      "execution_count": 22,
      "outputs": [
        {
          "output_type": "stream",
          "name": "stdout",
          "text": [
            "orangedog named Guiness.\n",
            "Guiness\n"
          ]
        }
      ]
    },
    {
      "cell_type": "code",
      "source": [
        "# 调用类的函数\n",
        "my_dog.change_name(new_name=\"Charlie\")\n",
        "print(my_dog)\n",
        "print(my_dog.name)"
      ],
      "metadata": {
        "colab": {
          "base_uri": "https://localhost:8080/"
        },
        "id": "uiI19_hz5sLI",
        "outputId": "e4f8e131-6e70-4ef4-d493-6bd5ee1f45c9"
      },
      "execution_count": 23,
      "outputs": [
        {
          "output_type": "stream",
          "name": "stdout",
          "text": [
            "orangedog named Charlie.\n",
            "Charlie\n"
          ]
        }
      ]
    },
    {
      "cell_type": "code",
      "source": [],
      "metadata": {
        "id": "Ye0OlaBB6Amy"
      },
      "execution_count": null,
      "outputs": []
    }
  ]
}